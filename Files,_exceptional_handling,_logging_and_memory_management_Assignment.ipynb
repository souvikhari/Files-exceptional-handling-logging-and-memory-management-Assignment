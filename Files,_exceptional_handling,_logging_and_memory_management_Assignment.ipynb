{
  "nbformat": 4,
  "nbformat_minor": 0,
  "metadata": {
    "colab": {
      "provenance": []
    },
    "kernelspec": {
      "name": "python3",
      "display_name": "Python 3"
    },
    "language_info": {
      "name": "python"
    }
  },
  "cells": [
    {
      "cell_type": "markdown",
      "source": [
        "#Theory Questions"
      ],
      "metadata": {
        "id": "w19UOXBWdq17"
      }
    },
    {
      "cell_type": "markdown",
      "source": [
        "1. What is the difference between interpreted and compiled languages?\n",
        "   - The main difference between compiled and interpreted languages is how they are processed. Compiled languages are translated into machine code before execution, while interpreted languages are translated into machine code while running."
      ],
      "metadata": {
        "id": "xkZgrA8-d255"
      }
    },
    {
      "cell_type": "markdown",
      "source": [
        "2. What is exception handling in Python?\n",
        "   - Exception handling in Python is a mechanism that allows a program to handle errors (exceptions) gracefully without crashing. It ensures the program can continue running or provide meaningful error messages instead of stopping unexpectedly."
      ],
      "metadata": {
        "id": "5OR9CR15eM_4"
      }
    },
    {
      "cell_type": "markdown",
      "source": [
        "3. What is the purpose of the finally block in exception handling?\n",
        "   - The purpose of a finally block in exception handling is to ensure that important code is executed, even if an exception occurs."
      ],
      "metadata": {
        "id": "C9Lk9nXReWTo"
      }
    },
    {
      "cell_type": "markdown",
      "source": [
        "4. What is logging in Python?\n",
        "   - Python logging is a way to record events that occur while a program is running. It's a key tool for debugging, troubleshooting, and monitoring programs."
      ],
      "metadata": {
        "id": "f31_q9r-emPQ"
      }
    },
    {
      "cell_type": "markdown",
      "source": [
        "5. What is the significance of the __del__ method in Python?\n",
        "   - The __del__ method in Python is a destructor that is automatically called when an object is deleted or goes out of scope. It is mainly used for cleanup operations, such as closing files, releasing memory, or disconnecting from a database."
      ],
      "metadata": {
        "id": "ziAj7uMxes8B"
      }
    },
    {
      "cell_type": "markdown",
      "source": [
        "6. What is the difference between import and from ... import in Python?\n",
        "   - Import imports an entire code library. from ... import imports a specific member or members of the library."
      ],
      "metadata": {
        "id": "d5KcRuAjfEsC"
      }
    },
    {
      "cell_type": "markdown",
      "source": [
        "7. How can you handle multiple exceptions in Python?\n",
        "   - In Python we can handle multiple exceptions by using multiple except blocks within a try...except structure, allowing you to specify different actions for different types of exceptions."
      ],
      "metadata": {
        "id": "iBfnj8LXfTvQ"
      }
    },
    {
      "cell_type": "markdown",
      "source": [
        "8. What is the purpose of the with statement when handling files in Python?\n",
        "   - The with statement in Python, when used with file handling, ensures that a file is automatically closed after its operations are complete, even if errors occur, simplifying resource management and preventing potential issues."
      ],
      "metadata": {
        "id": "M29sKzxGfoqa"
      }
    },
    {
      "cell_type": "markdown",
      "source": [
        "9. What is the difference between multithreading and multiprocessing?\n",
        "   - Multithreading runs multiple threads within a single process but Multiprocessing runs multiple processes on multiple processors."
      ],
      "metadata": {
        "id": "tJgPq52SfwFA"
      }
    },
    {
      "cell_type": "markdown",
      "source": [
        "10. What are the advantages of using logging in a program?\n",
        "    - Logging in programming offers numerous advantages, including easier debugging, improved monitoring and troubleshooting, enhanced security, and better understanding of system behavior."
      ],
      "metadata": {
        "id": "NCmUk7KlgAlh"
      }
    },
    {
      "cell_type": "markdown",
      "source": [
        "11. What is memory management in Python?\n",
        "    - Python's memory management system controls how Python programs use and release memory. It includes techniques like garbage collection and memory pools to allocate and deallocate memory."
      ],
      "metadata": {
        "id": "QaqdghSNgjnh"
      }
    },
    {
      "cell_type": "markdown",
      "source": [
        "12. What are the basic steps involved in exception handling in Python?\n",
        "    - In Python, exception handling involves using try, except, else, and finally blocks to gracefully manage errors and prevent program crashes. The try block contains code that might raise an exception, the except block handles specific exceptions, the else block executes if no exception occurs, and the finally block always executes, regardless of exceptions.\n"
      ],
      "metadata": {
        "id": "eUgsDsIfgp_i"
      }
    },
    {
      "cell_type": "markdown",
      "source": [
        "13. Why is memory management important in Python?\n",
        "    - Memory management is crucial in Python because it directly impacts the code's performance, resource usage, and stability, ensuring efficient execution and preventing issues like memory leaks and crashes.\n"
      ],
      "metadata": {
        "id": "lb0pN8Otg9W5"
      }
    },
    {
      "cell_type": "markdown",
      "source": [
        "14. What is the role of try and except in exception handling?\n",
        "    - In exception handling, the try block contains code that might potentially raise an exception, while the except block handles the exception if it occurs, allowing the program to continue running instead of crashing."
      ],
      "metadata": {
        "id": "k3SRM6yShGLp"
      }
    },
    {
      "cell_type": "markdown",
      "source": [
        "15. How does Python's garbage collection system work?\n",
        "    - Python's garbage collection system uses reference counting and generational garbage collection to automatically remove objects that are no longer in use. This helps to prevent memory leaks and optimize application performance."
      ],
      "metadata": {
        "id": "Cg9VhB3GhTcJ"
      }
    },
    {
      "cell_type": "markdown",
      "source": [
        "16. What is the purpose of the else block in exception handling?\n",
        "    - In Python, the else block executes code when there are no errors in the try block. It's useful for performing specific actions when the try block is successful."
      ],
      "metadata": {
        "id": "txuURORiha_B"
      }
    },
    {
      "cell_type": "markdown",
      "source": [
        "17. What are the common logging levels in Python?\n",
        "    - DEBUG, INFO, WARNING, ERROR, CRITICAL."
      ],
      "metadata": {
        "id": "a3WT0t7hhifJ"
      }
    },
    {
      "cell_type": "markdown",
      "source": [
        "18. What is the difference between os.fork() and multiprocessing in Python?\n",
        "    - os.fork() is useful when you need to directly manage process creation in a Unix environment and have specific control over the child and parent processes. Multiprocessing is generally recommended for most use cases, especially when you need cross-platform support, better memory management, and easier-to-use APIs for inter-process communication and synchronization."
      ],
      "metadata": {
        "id": "Gb8k3uOViBXq"
      }
    },
    {
      "cell_type": "markdown",
      "source": [
        "19. What is the importance of closing a file in Python?\n",
        "    - * Free up system resources (file descriptors and memory).\n",
        "      * Ensure that data is correctly written to the file (flush buffers).\n",
        "      * Avoid errors related to concurrent access or resource limits. Using the with statement is a best practice as it ensures files are always closed automatically."
      ],
      "metadata": {
        "id": "h_-VfpoAsh72"
      }
    },
    {
      "cell_type": "markdown",
      "source": [
        "20. What is the difference between file.read() and file.readline() in Python?\n",
        "    - In Python, file.read() reads the entire file content into a single string, while file.readline() reads and returns only the next line of the file as a string.\n"
      ],
      "metadata": {
        "id": "Wvt-iEi3s2bl"
      }
    },
    {
      "cell_type": "markdown",
      "source": [
        "21. What is the logging module in Python used for?\n",
        "    - The Python logging module is a powerful tool for tracking events that occur during program execution, enabling developers to record information about errors, warnings, and other events for debugging, troubleshooting, and monitoring purposes."
      ],
      "metadata": {
        "id": "4zgkk2-ms802"
      }
    },
    {
      "cell_type": "markdown",
      "source": [
        "22. What is the os module in Python used for in file handling?\n",
        "    - The os module in Python provides a variety of functions to interact with the operating system, and it is commonly used in file handling for tasks like working with directories, files, and paths. It allows to perform file and directory operations such as creating, removing, renaming files, and checking file existence, among other things. Python’s built-in open() function or the pathlib module is often preferred for ease of use."
      ],
      "metadata": {
        "id": "tkUN3VsUtHge"
      }
    },
    {
      "cell_type": "markdown",
      "source": [
        "23. What are the challenges associated with memory management in Python?\n",
        "    - *  While Python automatically manages memory using reference counting and cyclic garbage collection, it can struggle with reference cycles, leading to memory leaks and non-deterministic cleanup, causing memory spikes.\n",
        "      * Python objects include extra metadata, leading to higher memory consumption compared to lower-level languages. This is a concern when working with large numbers of small objects.\n",
        "      * Over time, dynamic memory allocation may cause fragmented memory, reducing efficiency in long-running applications.\n",
        "      * Python's default data structures, like lists and dictionaries, may not be memory-efficient, especially for large datasets.\n",
        "      * Failing to properly manage external resources (e.g., file handles, network connections) can lead to memory leaks."
      ],
      "metadata": {
        "id": "QGRM9ix6tqZ2"
      }
    },
    {
      "cell_type": "markdown",
      "source": [
        "24. How do you raise an exception manually in Python?\n",
        "    - In Python, we can raise an exception manually using the raise keyword. This allows us to signal an error condition explicitly in the code and can be used with both built-in and custom exceptions."
      ],
      "metadata": {
        "id": "L6QB7GCWuFEH"
      }
    },
    {
      "cell_type": "markdown",
      "source": [
        "25. Why is it important to use multithreading in certain applications?\n",
        "    - By using multithreading, applications can make more efficient use of system resources, improve performance, and provide a better user experience. However, it’s important to note that Python's Global Interpreter Lock (GIL) can limit true parallelism in CPU-bound tasks within a single process. For such tasks, multiprocessing might be a better option."
      ],
      "metadata": {
        "id": "qfDdeq3iuVin"
      }
    },
    {
      "cell_type": "markdown",
      "source": [
        "#Practical Questions"
      ],
      "metadata": {
        "id": "ArvOk7ehuktG"
      }
    },
    {
      "cell_type": "markdown",
      "source": [
        "1. How can you open a file for writing in Python and write a string to it?"
      ],
      "metadata": {
        "id": "2Xez3Wz4RQVl"
      }
    },
    {
      "cell_type": "code",
      "source": [
        "with open('example.txt', 'w') as file:\n",
        "\n",
        "    file.write(\"Hello, this is a string written to the file!\")\n"
      ],
      "metadata": {
        "id": "l7eU6ysVRXJ8"
      },
      "execution_count": 1,
      "outputs": []
    },
    {
      "cell_type": "markdown",
      "source": [
        "2. Write a Python program to read the contents of a file and print each line."
      ],
      "metadata": {
        "id": "YJqP-RjCRyms"
      }
    },
    {
      "cell_type": "code",
      "source": [
        "with open('example.txt', 'r') as file:\n",
        "\n",
        "    for line in file:\n",
        "\n",
        "        print(line, end='')\n"
      ],
      "metadata": {
        "colab": {
          "base_uri": "https://localhost:8080/"
        },
        "id": "j7ydOPaBR1gG",
        "outputId": "ca4f7ee5-d82b-4bb5-9468-2adbbb119719"
      },
      "execution_count": 2,
      "outputs": [
        {
          "output_type": "stream",
          "name": "stdout",
          "text": [
            "Hello, this is a string written to the file!"
          ]
        }
      ]
    },
    {
      "cell_type": "markdown",
      "source": [
        "3. How would you handle a case where the file doesn't exist while trying to open it for reading?"
      ],
      "metadata": {
        "id": "R81zSm13SEaW"
      }
    },
    {
      "cell_type": "code",
      "source": [
        "try:\n",
        "\n",
        "    with open('example.txt', 'r') as file:\n",
        "\n",
        "        for line in file:\n",
        "            print(line, end='')\n",
        "\n",
        "except FileNotFoundError:\n",
        "\n",
        "    print(\"The file does not exist.\")\n"
      ],
      "metadata": {
        "colab": {
          "base_uri": "https://localhost:8080/"
        },
        "id": "9KvUTPbqSHud",
        "outputId": "990b8a8d-8cb4-42bf-afdb-faa1a3914d7d"
      },
      "execution_count": 3,
      "outputs": [
        {
          "output_type": "stream",
          "name": "stdout",
          "text": [
            "Hello, this is a string written to the file!"
          ]
        }
      ]
    },
    {
      "cell_type": "markdown",
      "source": [
        "4. Write a Python script that reads from one file and writes its content to another file."
      ],
      "metadata": {
        "id": "j3gPxuyeSVFV"
      }
    },
    {
      "cell_type": "code",
      "source": [
        "try:\n",
        "\n",
        "    with open('source_file.txt', 'r') as source_file:\n",
        "\n",
        "        with open('destination_file.txt', 'w') as destination_file:\n",
        "\n",
        "            content = source_file.read()\n",
        "            destination_file.write(content)\n",
        "\n",
        "    print(\"Content copied successfully!\")\n",
        "\n",
        "except FileNotFoundError:\n",
        "    print(\"Source file does not exist.\")\n",
        "except IOError as e:\n",
        "    print(f\"An error occurred while handling the files: {e}\")\n"
      ],
      "metadata": {
        "colab": {
          "base_uri": "https://localhost:8080/"
        },
        "id": "oT3GpVXlSXk8",
        "outputId": "96d4cc96-e09c-4a01-e16d-1616bef55f16"
      },
      "execution_count": 4,
      "outputs": [
        {
          "output_type": "stream",
          "name": "stdout",
          "text": [
            "Source file does not exist.\n"
          ]
        }
      ]
    },
    {
      "cell_type": "markdown",
      "source": [
        "5. How would you catch and handle division by zero error in Python?"
      ],
      "metadata": {
        "id": "TIwHC-RaSkq1"
      }
    },
    {
      "cell_type": "code",
      "source": [
        "try:\n",
        "\n",
        "    numerator = 10\n",
        "    denominator = 0\n",
        "    result = numerator / denominator\n",
        "\n",
        "except ZeroDivisionError:\n",
        "\n",
        "    print(\"Error: Division by zero is not allowed.\")\n",
        "\n",
        "else:\n",
        "\n",
        "    print(f\"The result is: {result}\")\n",
        "\n",
        "finally:\n",
        "\n",
        "    print(\"Execution completed.\")\n"
      ],
      "metadata": {
        "colab": {
          "base_uri": "https://localhost:8080/"
        },
        "id": "LaAVpMICSnQN",
        "outputId": "1791cb9e-a458-4283-9293-14c9749a4a38"
      },
      "execution_count": 5,
      "outputs": [
        {
          "output_type": "stream",
          "name": "stdout",
          "text": [
            "Error: Division by zero is not allowed.\n",
            "Execution completed.\n"
          ]
        }
      ]
    },
    {
      "cell_type": "markdown",
      "source": [
        "6. Write a Python program that logs an error message to a log file when a division by zero exception occurs."
      ],
      "metadata": {
        "id": "bCzAmMGoSx6e"
      }
    },
    {
      "cell_type": "code",
      "source": [
        "import logging\n",
        "\n",
        "logging.basicConfig(filename='error_log.txt', level=logging.ERROR,\n",
        "                    format='%(asctime)s - %(levelname)s - %(message)s')\n",
        "\n",
        "try:\n",
        "\n",
        "    numerator = 10\n",
        "    denominator = 0\n",
        "    result = numerator / denominator\n",
        "\n",
        "except ZeroDivisionError as e:\n",
        "\n",
        "    logging.error\n"
      ],
      "metadata": {
        "id": "YovFZscOS2XV"
      },
      "execution_count": 6,
      "outputs": []
    },
    {
      "cell_type": "markdown",
      "source": [
        "7. How do you log information at different levels (INFO, ERROR, WARNING) in Python using the logging module?"
      ],
      "metadata": {
        "id": "6K6X9paeTCSW"
      }
    },
    {
      "cell_type": "code",
      "source": [
        "import logging\n",
        "\n",
        "logging.basicConfig(filename='example_log.txt', level=logging.DEBUG,\n",
        "                    format='%(asctime)s - %(levelname)s - %(message)s')\n",
        "\n",
        "logging.debug(\"This is a debug message.\")\n",
        "logging.info(\"This is an info message.\")\n",
        "logging.warning(\"This is a warning message.\")\n",
        "logging.error(\"This is an error message.\")\n",
        "logging.critical(\"This is a critical message.\")\n"
      ],
      "metadata": {
        "colab": {
          "base_uri": "https://localhost:8080/"
        },
        "id": "fDZbCIrhTJN1",
        "outputId": "75ed48e9-ad87-4660-c0d0-68fcaef9c831"
      },
      "execution_count": 7,
      "outputs": [
        {
          "output_type": "stream",
          "name": "stderr",
          "text": [
            "WARNING:root:This is a warning message.\n",
            "ERROR:root:This is an error message.\n",
            "CRITICAL:root:This is a critical message.\n"
          ]
        }
      ]
    },
    {
      "cell_type": "markdown",
      "source": [
        "8.  Write a program to handle a file opening error using exception handling."
      ],
      "metadata": {
        "id": "sf9yAjE-TVXl"
      }
    },
    {
      "cell_type": "code",
      "source": [
        "try:\n",
        "\n",
        "    with open('non_existent_file.txt', 'r') as file:\n",
        "        # Read the file content\n",
        "        content = file.read()\n",
        "        print(content)\n",
        "\n",
        "except FileNotFoundError:\n",
        "\n",
        "    print(\"Error: The file does not exist.\")\n",
        "\n",
        "except IOError as e:\n",
        "\n",
        "    print(f\"Error: An IO error occurred. Details: {e}\")\n",
        "\n",
        "else:\n",
        "\n",
        "    print(\"File opened and read successfully.\")\n",
        "\n",
        "finally:\n",
        "\n",
        "    print(\"Execution completed.\")\n"
      ],
      "metadata": {
        "colab": {
          "base_uri": "https://localhost:8080/"
        },
        "id": "7QAKYNVyTY5u",
        "outputId": "f851cf32-6d6e-4386-91d5-2f87e3ae96d9"
      },
      "execution_count": 8,
      "outputs": [
        {
          "output_type": "stream",
          "name": "stdout",
          "text": [
            "Error: The file does not exist.\n",
            "Execution completed.\n"
          ]
        }
      ]
    },
    {
      "cell_type": "markdown",
      "source": [
        "9. How can you read a file line by line and store its content in a list in Python?"
      ],
      "metadata": {
        "id": "haNL8m44Tgj_"
      }
    },
    {
      "cell_type": "code",
      "source": [
        "try:\n",
        "\n",
        "    with open('example.txt', 'r') as file:\n",
        "\n",
        "        lines = file.readlines()\n",
        "\n",
        "    print(lines)\n",
        "\n",
        "except FileNotFoundError:\n",
        "    print(\"Error: The file does not exist.\")\n"
      ],
      "metadata": {
        "colab": {
          "base_uri": "https://localhost:8080/"
        },
        "id": "9G6K5UOeTjWW",
        "outputId": "cb1b1544-9ab4-44f3-d795-4ba956b52187"
      },
      "execution_count": 9,
      "outputs": [
        {
          "output_type": "stream",
          "name": "stdout",
          "text": [
            "['Hello, this is a string written to the file!']\n"
          ]
        }
      ]
    },
    {
      "cell_type": "markdown",
      "source": [
        "10. How can you append data to an existing file in Python?"
      ],
      "metadata": {
        "id": "2gOifgwgTtP1"
      }
    },
    {
      "cell_type": "code",
      "source": [
        "with open('example.txt', 'a') as file:\n",
        "\n",
        "    file.write(\"\\nThis is a new line added to the file.\")\n",
        "    file.write(\"\\nAnother line added to the file.\")\n"
      ],
      "metadata": {
        "id": "xw2aejjNTwKF"
      },
      "execution_count": 10,
      "outputs": []
    },
    {
      "cell_type": "markdown",
      "source": [
        "11. Write a Python program that uses a try-except block to handle an error when attempting to access a\n",
        "dictionary key that doesn't exist."
      ],
      "metadata": {
        "id": "v45ea7fUT5J_"
      }
    },
    {
      "cell_type": "code",
      "source": [
        "my_dict = {'name': 'Alice', 'age': 25, 'city': 'New York'}\n",
        "\n",
        "try:\n",
        "\n",
        "    key_to_access = 'country'\n",
        "    value = my_dict[key_to_access]\n",
        "    print(f\"The value for '{key_to_access}' is: {value}\")\n",
        "\n",
        "except KeyError as e:\n",
        "\n",
        "    print(f\"Error: The key '{e.args[0]}' does not exist in the dictionary.\")\n"
      ],
      "metadata": {
        "colab": {
          "base_uri": "https://localhost:8080/"
        },
        "id": "j2Th3MEmT7g1",
        "outputId": "355caeae-c5aa-44b0-e815-9496e9e9bd4f"
      },
      "execution_count": 11,
      "outputs": [
        {
          "output_type": "stream",
          "name": "stdout",
          "text": [
            "Error: The key 'country' does not exist in the dictionary.\n"
          ]
        }
      ]
    },
    {
      "cell_type": "markdown",
      "source": [
        "12. Write a program that demonstrates using multiple except blocks to handle different types of exceptions."
      ],
      "metadata": {
        "id": "n34v4xvFUCVN"
      }
    },
    {
      "cell_type": "code",
      "source": [
        "try:\n",
        "\n",
        "    numerator = 10\n",
        "    denominator = 0\n",
        "    result = numerator / denominator\n",
        "\n",
        "    with open('non_existent_file.txt', 'r') as file:\n",
        "        content = file.read()\n",
        "\n",
        "    my_dict = {'name': 'Alice', 'age': 25}\n",
        "    value = my_dict['address']\n",
        "\n",
        "except ZeroDivisionError as e:\n",
        "    print(f\"Error: Cannot divide by zero! ({e})\")\n",
        "\n",
        "except FileNotFoundError as e:\n",
        "    print(f\"Error: File not found! ({e})\")\n",
        "\n",
        "except KeyError as e:\n",
        "    print(f\"Error: Key '{e.args[0]}' not found in the dictionary!\")\n",
        "\n",
        "except Exception as e:\n",
        "    print(f\"An unexpected error occurred: {e}\")\n",
        "\n",
        "else:\n",
        "    print(\"All operations completed successfully.\")\n",
        "\n",
        "finally:\n",
        "    print(\"Execution finished.\")\n"
      ],
      "metadata": {
        "colab": {
          "base_uri": "https://localhost:8080/"
        },
        "id": "AaN5TnfsURwi",
        "outputId": "50e6be40-fa61-42d5-c388-dc4b8e620532"
      },
      "execution_count": 13,
      "outputs": [
        {
          "output_type": "stream",
          "name": "stdout",
          "text": [
            "Error: Cannot divide by zero! (division by zero)\n",
            "Execution finished.\n"
          ]
        }
      ]
    },
    {
      "cell_type": "markdown",
      "source": [
        "13. How would you check if a file exists before attempting to read it in Python?"
      ],
      "metadata": {
        "id": "EAQqgPesUVCe"
      }
    },
    {
      "cell_type": "code",
      "source": [
        "import os\n",
        "\n",
        "file_path = 'example.txt'\n",
        "\n",
        "if os.path.exists(file_path):\n",
        "    try:\n",
        "        with open(file_path, 'r') as file:\n",
        "            content = file.read()\n",
        "            print(content)\n",
        "    except Exception as e:\n",
        "        print(f\"An error occurred while reading the file: {e}\")\n",
        "else:\n",
        "    print(\"The file does not exist.\")\n"
      ],
      "metadata": {
        "id": "nzXcRq99Ujxd"
      },
      "execution_count": null,
      "outputs": []
    },
    {
      "cell_type": "markdown",
      "source": [
        "14. Write a program that uses the logging module to log both informational and error messages."
      ],
      "metadata": {
        "id": "5NFJLyhDUlU-"
      }
    },
    {
      "cell_type": "code",
      "source": [
        "import logging\n",
        "\n",
        "logging.basicConfig(\n",
        "    filename='app_log.txt',\n",
        "    level=logging.DEBUG,\n",
        "    format='%(asctime)s - %(levelname)s - %(message)s'\n",
        ")\n",
        "\n",
        "logging.info(\"This is an informational message.\")\n",
        "\n",
        "try:\n",
        "\n",
        "    result = 10 / 0\n",
        "except ZeroDivisionError as e:\n",
        "\n",
        "    logging.error(f\"An error occurred: {e}\")\n",
        "\n",
        "logging.info(\"The program continued after the error.\")"
      ],
      "metadata": {
        "id": "lSIEoY2WU3OO"
      },
      "execution_count": null,
      "outputs": []
    },
    {
      "cell_type": "markdown",
      "source": [
        "15. Write a Python program that prints the content of a file and handles the case when the file is empty."
      ],
      "metadata": {
        "id": "8wKipg1_U334"
      }
    },
    {
      "cell_type": "code",
      "source": [
        "try:\n",
        "\n",
        "    file_path = 'example.txt'\n",
        "\n",
        "    with open(file_path, 'r') as file:\n",
        "\n",
        "        content = file.read()\n",
        "\n",
        "        if content:\n",
        "            print(\"File content:\")\n",
        "            print(content)\n",
        "        else:\n",
        "            print(\"The file is empty.\")\n",
        "\n",
        "except FileNotFoundError:\n",
        "    print(f\"Error: The file '{file_path}' does not exist.\")\n",
        "except Exception as e:\n",
        "    print(f\"An error occurred: {e}\")"
      ],
      "metadata": {
        "id": "qhKWquyiVFgG"
      },
      "execution_count": null,
      "outputs": []
    },
    {
      "cell_type": "markdown",
      "source": [
        "16. Demonstrate how to use memory profiling to check the memory usage of a small program."
      ],
      "metadata": {
        "id": "p9s6b738VGR3"
      }
    },
    {
      "cell_type": "code",
      "source": [
        "from memory_profiler import profile\n",
        "\n",
        "@profile\n",
        "def compute_sum():\n",
        "\n",
        "    numbers = [i for i in range(1000000)]\n",
        "\n",
        "    total = sum(numbers)\n",
        "    return total\n",
        "\n",
        "if __name__ == \"__main__\":\n",
        "    compute_sum()\n"
      ],
      "metadata": {
        "id": "4ed1_w0nVKZO"
      },
      "execution_count": null,
      "outputs": []
    },
    {
      "cell_type": "markdown",
      "source": [
        "17. Write a Python program to create and write a list of numbers to a file, one number per line."
      ],
      "metadata": {
        "id": "G91Eq_yKVa5e"
      }
    },
    {
      "cell_type": "code",
      "source": [
        "\n",
        "numbers = [1, 2, 3, 4, 5, 6, 7, 8, 9, 10]\n",
        "\n",
        "with open('numbers.txt', 'w') as file:\n",
        "\n",
        "    for number in numbers:\n",
        "        file.write(f\"{number}\\n\")\n"
      ],
      "metadata": {
        "id": "glkY5lmfVsPA"
      },
      "execution_count": 19,
      "outputs": []
    },
    {
      "cell_type": "markdown",
      "source": [
        "18.  How would you implement a basic logging setup that logs to a file with rotation after 1MB?"
      ],
      "metadata": {
        "id": "Vc-T_azxVv7e"
      }
    },
    {
      "cell_type": "code",
      "source": [
        "import logging\n",
        "from logging.handlers import RotatingFileHandler\n",
        "\n",
        "log_file = 'app.log'\n",
        "\n",
        "handler = RotatingFileHandler(log_file, maxBytes=1*1024*1024, backupCount=3)\n",
        "handler.setLevel(logging.INFO)\n",
        "\n",
        "formatter = logging.Formatter('%(asctime)s - %(levelname)s - %(message)s')\n",
        "handler.setFormatter(formatter)\n",
        "\n",
        "logging.basicConfig(level=logging.INFO, handlers=[handler])\n",
        "\n",
        "logging.info(\"This is an informational message.\")\n",
        "logging.warning(\"This is a warning message.\")\n",
        "logging.error(\"This is an error message.\")\n"
      ],
      "metadata": {
        "colab": {
          "base_uri": "https://localhost:8080/"
        },
        "id": "HHrbjWxiVycT",
        "outputId": "be4ba563-8138-420e-f4ff-86b824283067"
      },
      "execution_count": 20,
      "outputs": [
        {
          "output_type": "stream",
          "name": "stderr",
          "text": [
            "WARNING:root:This is a warning message.\n",
            "ERROR:root:This is an error message.\n"
          ]
        }
      ]
    },
    {
      "cell_type": "markdown",
      "source": [
        "19. Write a program that handles both IndexError and KeyError using a try-except block."
      ],
      "metadata": {
        "id": "S0v-W1YuV_fv"
      }
    },
    {
      "cell_type": "code",
      "source": [
        "my_list = [1, 2, 3]\n",
        "my_dict = {'name': 'Alice', 'age': 25}\n",
        "\n",
        "try:\n",
        "\n",
        "    print(my_list[5])\n",
        "    print(my_dict['address'])\n",
        "\n",
        "except IndexError as e:\n",
        "    print(f\"IndexError occurred: {e}\")\n",
        "\n",
        "except KeyError as e:\n",
        "    print(f\"KeyError occurred: {e}\")\n",
        "\n"
      ],
      "metadata": {
        "id": "IRtHkeI3WN6o"
      },
      "execution_count": null,
      "outputs": []
    },
    {
      "cell_type": "markdown",
      "source": [
        "20. How would you open a file and read its contents using a context manager in Python?"
      ],
      "metadata": {
        "id": "pfsFfFvTWOlO"
      }
    },
    {
      "cell_type": "code",
      "source": [
        "file_path = 'example.txt'\n",
        "\n",
        "with open(file_path, 'r') as file:\n",
        "\n",
        "    content = file.read()\n",
        "\n",
        "print(content)"
      ],
      "metadata": {
        "id": "EsuN4jkpWc3f"
      },
      "execution_count": null,
      "outputs": []
    },
    {
      "cell_type": "markdown",
      "source": [
        "21. Write a Python program that reads a file and prints the number of occurrences of a specific word."
      ],
      "metadata": {
        "id": "Z8IdMAEHWdhP"
      }
    },
    {
      "cell_type": "code",
      "source": [
        "file_path = 'example.txt'\n",
        "word_to_count = 'Python'\n",
        "\n",
        "word_count = 0\n",
        "\n",
        "with open(file_path, 'r') as file:\n",
        "\n",
        "    for line in file:\n",
        "\n",
        "        word_count += line.lower().split().count(word_to_count.lower())\n",
        "\n",
        "print(f\"The word '{word_to_count}' appears {word_count} times in the file.\")\n"
      ],
      "metadata": {
        "id": "F-HTaHRzWf__"
      },
      "execution_count": null,
      "outputs": []
    },
    {
      "cell_type": "markdown",
      "source": [
        "22. How can you check if a file is empty before attempting to read its contents?"
      ],
      "metadata": {
        "id": "Bm2TrkTWWpPO"
      }
    },
    {
      "cell_type": "code",
      "source": [
        "import os\n",
        "\n",
        "file_path = 'example.txt'\n",
        "\n",
        "if os.path.getsize(file_path) == 0:\n",
        "    print(\"The file is empty.\")\n",
        "else:\n",
        "\n",
        "    with open(file_path, 'r') as file:\n",
        "        content = file.read()\n",
        "        print(\"File content:\")\n",
        "        print(content)\n"
      ],
      "metadata": {
        "id": "dTBVbfeJWrWI"
      },
      "execution_count": null,
      "outputs": []
    },
    {
      "cell_type": "markdown",
      "source": [
        "23. Write a Python program that writes to a log file when an error occurs during file handling."
      ],
      "metadata": {
        "id": "tcgImxAzW6mn"
      }
    },
    {
      "cell_type": "code",
      "source": [
        "import logging\n",
        "\n",
        "logging.basicConfig(\n",
        "    filename='file_handling_errors.log',\n",
        "    level=logging.ERROR,\n",
        "    format='%(asctime)s - %(levelname)s - %(message)s'\n",
        ")\n",
        "\n",
        "def read_file(file_path):\n",
        "    try:\n",
        "        with open(file_path, 'r') as file:\n",
        "            content = file.read()\n",
        "            print(content)\n",
        "    except FileNotFoundError as e:\n",
        "        logging.error(f\"FileNotFoundError: The file '{file_path}' was not found. Error: {e}\")\n",
        "    except PermissionError as e:\n",
        "        logging.error(f\"PermissionError: Insufficient permissions to access '{file_path}'. Error: {e}\")\n",
        "    except Exception as e:\n",
        "        logging.error(f\"An unexpected error occurred while handling the file '{file_path}'. Error: {e}\")\n",
        "\n",
        "if __name__ == \"__main__\":\n",
        "    file_path = 'non_existent_file.txt'\n",
        "    read_file(file_path)\n"
      ],
      "metadata": {
        "id": "eXuUjR7qW-_f"
      },
      "execution_count": null,
      "outputs": []
    }
  ]
}